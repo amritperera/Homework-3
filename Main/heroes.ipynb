{
 "cells": [
  {
   "cell_type": "markdown",
   "metadata": {},
   "source": [
    "## import modules and setup csv to be read"
   ]
  },
  {
   "cell_type": "code",
   "execution_count": null,
   "metadata": {},
   "outputs": [],
   "source": [
    "import pandas as pd\n",
    "import os\n",
    "import numpy as np\n",
    "\n",
    "csvpath = os.path.join('..','Resources','purchase_data.csv')\n",
    "\n",
    "hero =  pd.read_csv(csvpath)"
   ]
  },
  {
   "cell_type": "markdown",
   "metadata": {},
   "source": [
    "## player count"
   ]
  },
  {
   "cell_type": "code",
   "execution_count": null,
   "metadata": {},
   "outputs": [],
   "source": [
    "## code snippit found online to clean the header names(remove spaces, lowercase, ect)\n",
    "hero.columns = hero.columns.str.strip().str.lower().str.replace(' ', '_').str.replace('(', '').str.replace(')', '')\n",
    "## count of unique players\n",
    "x = hero.sn.unique()\n",
    "total_players = [len(x)]\n",
    "# output to table\n",
    "pd.DataFrame(total_players,columns=[\"Total Players\"])\n"
   ]
  },
  {
   "cell_type": "markdown",
   "metadata": {},
   "source": [
    "## purchasing analysis (total)"
   ]
  },
  {
   "cell_type": "code",
   "execution_count": null,
   "metadata": {},
   "outputs": [],
   "source": [
    "## keeping of variable full count\n",
    "fullcount=len(x)\n",
    "\n",
    "## output list intialization that will be appended to\n",
    "y=[]\n",
    "x=len(hero.item_id.unique())\n",
    "\n",
    "## add unique item total to list\n",
    "y.append(x)\n",
    "## add average price to list\n",
    "x=hero[\"price\"].mean()\n",
    "z='${:.2f}'.format(x)\n",
    "y.append(z)\n",
    "## add number of purchases to list\n",
    "x=len(hero.index)\n",
    "y.append(x)\n",
    "## add total rev to list\n",
    "x=hero[\"price\"].sum()\n",
    "z='${:.2f}'.format(x)\n",
    "y.append(z)\n",
    "## add list y to data frame 'output' and print\n",
    "outputPA=pd.DataFrame(columns=[\"Number of Unique Items\",\"Average Price\",\"Number of Purchases\",\"Total Revenue\"])\n",
    "outputPA.loc[0] = y\n",
    "outputPA\n"
   ]
  },
  {
   "cell_type": "markdown",
   "metadata": {},
   "source": [
    "## gender demographics"
   ]
  },
  {
   "cell_type": "code",
   "execution_count": null,
   "metadata": {},
   "outputs": [],
   "source": [
    "## output list intialization that will be appended to\n",
    "male = []\n",
    "female = []\n",
    "other = []\n",
    "\n",
    "## group by gender, then isolate only the males\n",
    "gender = hero.groupby('gender')\n",
    "Mgender=gender.get_group('Male')\n",
    "## count the number of unique names in males, append to male list\n",
    "male.append(len(Mgender.sn.unique()))\n",
    "x='{:.2%}'.format(len(Mgender.sn.unique())/fullcount)\n",
    "male.append(x)\n",
    "\n",
    "## group by gender, then isolate only the females\n",
    "gender = hero.groupby('gender')\n",
    "Fgender=gender.get_group('Female')\n",
    "## count the number of unique names in females, append to female list\n",
    "female.append(len(Fgender.sn.unique()))\n",
    "x='{:.2%}'.format(len(Fgender.sn.unique())/fullcount)\n",
    "female.append(x)\n",
    "\n",
    "## group by gender, then isolate only the others\n",
    "gender = hero.groupby('gender')\n",
    "Ogender=gender.get_group('Other / Non-Disclosed')\n",
    "## count the number of unique names in others, append to others list\n",
    "other.append(len(Ogender.sn.unique()))\n",
    "x='{:.2%}'.format(len(Ogender.sn.unique())/fullcount)\n",
    "other.append(x)\n",
    "\n",
    "## add lists to output dataframe\n",
    "outputGD=pd.DataFrame(columns=[\"Total Count\",\"Percentage of Players\"])\n",
    "outputGD.loc[0] = male\n",
    "outputGD.loc[1] = female\n",
    "outputGD.loc[2] = other\n",
    "outputGD"
   ]
  },
  {
   "cell_type": "markdown",
   "metadata": {},
   "source": [
    "## purchasing analysis (gender)"
   ]
  }
 ],
 "metadata": {
  "kernelspec": {
   "display_name": "Python 3",
   "language": "python",
   "name": "python3"
  },
  "language_info": {
   "codemirror_mode": {
    "name": "ipython",
    "version": 3
   },
   "file_extension": ".py",
   "mimetype": "text/x-python",
   "name": "python",
   "nbconvert_exporter": "python",
   "pygments_lexer": "ipython3",
   "version": "3.7.0"
  }
 },
 "nbformat": 4,
 "nbformat_minor": 2
}
