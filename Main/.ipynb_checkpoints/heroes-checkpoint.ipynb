{
 "cells": [
  {
   "cell_type": "markdown",
   "metadata": {},
   "source": [
    "## import modules and setup csv to be read"
   ]
  },
  {
   "cell_type": "code",
   "execution_count": 169,
   "metadata": {},
   "outputs": [],
   "source": [
    "import pandas as pd\n",
    "import os\n",
    "import numpy as np\n",
    "\n",
    "csvpath = os.path.join('..','Resources','purchase_data.csv')\n",
    "\n",
    "hero =  pd.read_csv(csvpath)\n"
   ]
  },
  {
   "cell_type": "markdown",
   "metadata": {},
   "source": [
    "## player count"
   ]
  },
  {
   "cell_type": "code",
   "execution_count": 170,
   "metadata": {},
   "outputs": [
    {
     "data": {
      "text/html": [
       "<div>\n",
       "<style scoped>\n",
       "    .dataframe tbody tr th:only-of-type {\n",
       "        vertical-align: middle;\n",
       "    }\n",
       "\n",
       "    .dataframe tbody tr th {\n",
       "        vertical-align: top;\n",
       "    }\n",
       "\n",
       "    .dataframe thead th {\n",
       "        text-align: right;\n",
       "    }\n",
       "</style>\n",
       "<table border=\"1\" class=\"dataframe\">\n",
       "  <thead>\n",
       "    <tr style=\"text-align: right;\">\n",
       "      <th></th>\n",
       "      <th>Total Players</th>\n",
       "    </tr>\n",
       "  </thead>\n",
       "  <tbody>\n",
       "    <tr>\n",
       "      <th>0</th>\n",
       "      <td>576</td>\n",
       "    </tr>\n",
       "  </tbody>\n",
       "</table>\n",
       "</div>"
      ],
      "text/plain": [
       "   Total Players\n",
       "0            576"
      ]
     },
     "execution_count": 170,
     "metadata": {},
     "output_type": "execute_result"
    }
   ],
   "source": [
    "## code snippit found online to clean the header names(remove spaces, lowercase, ect)\n",
    "hero.columns = hero.columns.str.strip().str.lower().str.replace(' ', '_').str.replace('(', '').str.replace(')', '')\n",
    "## count of unique players\n",
    "x = hero.sn.unique()\n",
    "total_players = [len(x)]\n",
    "# output to table\n",
    "pd.DataFrame(total_players,columns=[\"Total Players\"])\n"
   ]
  },
  {
   "cell_type": "markdown",
   "metadata": {},
   "source": [
    "## purchasing analysis (total)"
   ]
  },
  {
   "cell_type": "code",
   "execution_count": 171,
   "metadata": {},
   "outputs": [
    {
     "data": {
      "text/html": [
       "<div>\n",
       "<style scoped>\n",
       "    .dataframe tbody tr th:only-of-type {\n",
       "        vertical-align: middle;\n",
       "    }\n",
       "\n",
       "    .dataframe tbody tr th {\n",
       "        vertical-align: top;\n",
       "    }\n",
       "\n",
       "    .dataframe thead th {\n",
       "        text-align: right;\n",
       "    }\n",
       "</style>\n",
       "<table border=\"1\" class=\"dataframe\">\n",
       "  <thead>\n",
       "    <tr style=\"text-align: right;\">\n",
       "      <th></th>\n",
       "      <th>Number of Unique Items</th>\n",
       "      <th>Average Price</th>\n",
       "      <th>Number of Purchases</th>\n",
       "      <th>Total Revenue</th>\n",
       "    </tr>\n",
       "  </thead>\n",
       "  <tbody>\n",
       "    <tr>\n",
       "      <th>0</th>\n",
       "      <td>183</td>\n",
       "      <td>$3.05</td>\n",
       "      <td>780</td>\n",
       "      <td>$2379.77</td>\n",
       "    </tr>\n",
       "  </tbody>\n",
       "</table>\n",
       "</div>"
      ],
      "text/plain": [
       "  Number of Unique Items Average Price Number of Purchases Total Revenue\n",
       "0                    183         $3.05                 780      $2379.77"
      ]
     },
     "execution_count": 171,
     "metadata": {},
     "output_type": "execute_result"
    }
   ],
   "source": [
    "## keeping of variable full count\n",
    "fullcount=len(x)\n",
    "\n",
    "## output list intialization that will be appended to\n",
    "y=[]\n",
    "x=len(hero.item_id.unique())\n",
    "\n",
    "## add unique item total to list\n",
    "y.append(x)\n",
    "## add average price to list\n",
    "x=hero[\"price\"].mean()\n",
    "z='${:.2f}'.format(x)\n",
    "y.append(z)\n",
    "## add number of purchases to list\n",
    "x=len(hero.index)\n",
    "y.append(x)\n",
    "## add total rev to list\n",
    "x=hero[\"price\"].sum()\n",
    "z='${:.2f}'.format(x)\n",
    "y.append(z)\n",
    "## add list y to data frame 'output' and print\n",
    "outputPA=pd.DataFrame(columns=[\"Number of Unique Items\",\"Average Price\",\"Number of Purchases\",\"Total Revenue\"])\n",
    "outputPA.loc[0] = y\n",
    "outputPA\n"
   ]
  },
  {
   "cell_type": "markdown",
   "metadata": {},
   "source": [
    "## gender demographics"
   ]
  },
  {
   "cell_type": "code",
   "execution_count": 172,
   "metadata": {},
   "outputs": [
    {
     "data": {
      "text/html": [
       "<div>\n",
       "<style scoped>\n",
       "    .dataframe tbody tr th:only-of-type {\n",
       "        vertical-align: middle;\n",
       "    }\n",
       "\n",
       "    .dataframe tbody tr th {\n",
       "        vertical-align: top;\n",
       "    }\n",
       "\n",
       "    .dataframe thead th {\n",
       "        text-align: right;\n",
       "    }\n",
       "</style>\n",
       "<table border=\"1\" class=\"dataframe\">\n",
       "  <thead>\n",
       "    <tr style=\"text-align: right;\">\n",
       "      <th></th>\n",
       "      <th>Total Count</th>\n",
       "      <th>Percentage of Players</th>\n",
       "    </tr>\n",
       "  </thead>\n",
       "  <tbody>\n",
       "    <tr>\n",
       "      <th>Male</th>\n",
       "      <td>484</td>\n",
       "      <td>84.03%</td>\n",
       "    </tr>\n",
       "    <tr>\n",
       "      <th>Female</th>\n",
       "      <td>81</td>\n",
       "      <td>14.06%</td>\n",
       "    </tr>\n",
       "    <tr>\n",
       "      <th>Other / Non-Disclosed</th>\n",
       "      <td>11</td>\n",
       "      <td>1.91%</td>\n",
       "    </tr>\n",
       "  </tbody>\n",
       "</table>\n",
       "</div>"
      ],
      "text/plain": [
       "                      Total Count Percentage of Players\n",
       "Male                          484                84.03%\n",
       "Female                         81                14.06%\n",
       "Other / Non-Disclosed          11                 1.91%"
      ]
     },
     "execution_count": 172,
     "metadata": {},
     "output_type": "execute_result"
    }
   ],
   "source": [
    "## output list intialization that will be appended to\n",
    "male = []\n",
    "female = []\n",
    "other = []\n",
    "\n",
    "## group by gender, then isolate only the males\n",
    "gender = hero.groupby('gender')\n",
    "Mgender=gender.get_group('Male')\n",
    "## count the number of unique names in males, append to male list\n",
    "male.append(len(Mgender.sn.unique()))\n",
    "x='{:.2%}'.format(len(Mgender.sn.unique())/fullcount)\n",
    "male.append(x)\n",
    "\n",
    "## group by gender, then isolate only the females\n",
    "gender = hero.groupby('gender')\n",
    "Fgender=gender.get_group('Female')\n",
    "## count the number of unique names in females, append to female list\n",
    "female.append(len(Fgender.sn.unique()))\n",
    "x='{:.2%}'.format(len(Fgender.sn.unique())/fullcount)\n",
    "female.append(x)\n",
    "\n",
    "## group by gender, then isolate only the others\n",
    "gender = hero.groupby('gender')\n",
    "Ogender=gender.get_group('Other / Non-Disclosed')\n",
    "## count the number of unique names in others, append to others list\n",
    "other.append(len(Ogender.sn.unique()))\n",
    "x='{:.2%}'.format(len(Ogender.sn.unique())/fullcount)\n",
    "other.append(x)\n",
    "\n",
    "## add lists to output dataframe\n",
    "outputGD=pd.DataFrame(columns=[\"Total Count\",\"Percentage of Players\"])\n",
    "outputGD.rename(index={0:\"Male\",1:\"Female\",2:\"Other / Non-Disclosed\"})\n",
    "outputGD.loc['Male'] = male\n",
    "outputGD.loc['Female'] = female\n",
    "outputGD.loc['Other / Non-Disclosed'] = other\n",
    "outputGD\n"
   ]
  },
  {
   "cell_type": "markdown",
   "metadata": {},
   "source": [
    "## purchasing analysis (gender)"
   ]
  },
  {
   "cell_type": "code",
   "execution_count": 173,
   "metadata": {},
   "outputs": [
    {
     "data": {
      "text/html": [
       "<div>\n",
       "<style scoped>\n",
       "    .dataframe tbody tr th:only-of-type {\n",
       "        vertical-align: middle;\n",
       "    }\n",
       "\n",
       "    .dataframe tbody tr th {\n",
       "        vertical-align: top;\n",
       "    }\n",
       "\n",
       "    .dataframe thead th {\n",
       "        text-align: right;\n",
       "    }\n",
       "</style>\n",
       "<table border=\"1\" class=\"dataframe\">\n",
       "  <thead>\n",
       "    <tr style=\"text-align: right;\">\n",
       "      <th></th>\n",
       "      <th>Purchase Count</th>\n",
       "      <th>Average Purchase Price</th>\n",
       "      <th>Total Purchase Value</th>\n",
       "      <th>Avg Total Purchase per Person</th>\n",
       "    </tr>\n",
       "  </thead>\n",
       "  <tbody>\n",
       "    <tr>\n",
       "      <th>Female</th>\n",
       "      <td>113.0</td>\n",
       "      <td>3.203009</td>\n",
       "      <td>361.94</td>\n",
       "      <td>4.468395</td>\n",
       "    </tr>\n",
       "    <tr>\n",
       "      <th>Male</th>\n",
       "      <td>652.0</td>\n",
       "      <td>3.017853</td>\n",
       "      <td>1967.64</td>\n",
       "      <td>4.065372</td>\n",
       "    </tr>\n",
       "    <tr>\n",
       "      <th>Other / Non-Disclosed</th>\n",
       "      <td>15.0</td>\n",
       "      <td>3.346000</td>\n",
       "      <td>50.19</td>\n",
       "      <td>4.562727</td>\n",
       "    </tr>\n",
       "  </tbody>\n",
       "</table>\n",
       "</div>"
      ],
      "text/plain": [
       "                       Purchase Count  Average Purchase Price  \\\n",
       "Female                          113.0                3.203009   \n",
       "Male                            652.0                3.017853   \n",
       "Other / Non-Disclosed            15.0                3.346000   \n",
       "\n",
       "                       Total Purchase Value  Avg Total Purchase per Person  \n",
       "Female                               361.94                       4.468395  \n",
       "Male                                1967.64                       4.065372  \n",
       "Other / Non-Disclosed                 50.19                       4.562727  "
      ]
     },
     "execution_count": 173,
     "metadata": {},
     "output_type": "execute_result"
    }
   ],
   "source": [
    "## output list intialization that will be appended to\n",
    "male = []\n",
    "female = []\n",
    "other = []\n",
    "\n",
    "## group by gender, then isolate only the females\n",
    "gender = hero.groupby('gender')\n",
    "Fgender=gender.get_group('Female')\n",
    "female.append(len(Fgender))\n",
    "female.append(Fgender[\"price\"].mean())\n",
    "female.append(Fgender[\"price\"].sum())\n",
    "f=len(Fgender.sn.unique())\n",
    "female.append(Fgender[\"price\"].sum()/f)\n",
    "\n",
    "## group by gender, then isolate only the males\n",
    "gender = hero.groupby('gender')\n",
    "Mgender=gender.get_group('Male')\n",
    "male.append(len(Mgender))\n",
    "male.append(Mgender[\"price\"].mean())\n",
    "male.append(Mgender[\"price\"].sum())\n",
    "m=len(Mgender.sn.unique())\n",
    "male.append(Mgender[\"price\"].sum()/m)\n",
    "\n",
    "## group by gender, then isolate only the others\n",
    "gender = hero.groupby('gender')\n",
    "Ogender=gender.get_group('Other / Non-Disclosed')\n",
    "other.append(len(Ogender))\n",
    "other.append(Ogender[\"price\"].mean())\n",
    "other.append(Ogender[\"price\"].sum())\n",
    "o=len(Ogender.sn.unique())\n",
    "other.append(Ogender[\"price\"].sum()/o)\n",
    "\n",
    "\n",
    "outputPAG=pd.DataFrame(columns=[\"Purchase Count\",\"Average Purchase Price\",\"Total Purchase Value\",\"Avg Total Purchase per Person\"])\n",
    "outputGD.rename(index={0:\"Male\",1:\"Female\",2:\"Other / Non-Disclosed\"})\n",
    "outputPAG.loc['Female']=female\n",
    "outputPAG.loc['Male']=male\n",
    "outputPAG.loc['Other / Non-Disclosed']=other\n",
    "outputPAG"
   ]
  },
  {
   "cell_type": "markdown",
   "metadata": {},
   "source": [
    "## age demographics"
   ]
  },
  {
   "cell_type": "code",
   "execution_count": 201,
   "metadata": {
    "scrolled": true
   },
   "outputs": [
    {
     "data": {
      "text/plain": [
       "0           NaN\n",
       "1           NaN\n",
       "2           NaN\n",
       "3           NaN\n",
       "4           NaN\n",
       "5           NaN\n",
       "6           NaN\n",
       "7           NaN\n",
       "8           NaN\n",
       "9           NaN\n",
       "10          NaN\n",
       "11          NaN\n",
       "12          NaN\n",
       "13          NaN\n",
       "14          NaN\n",
       "15          NaN\n",
       "16          NaN\n",
       "17          NaN\n",
       "18          NaN\n",
       "19          NaN\n",
       "20          NaN\n",
       "21          NaN\n",
       "22          NaN\n",
       "23          NaN\n",
       "24          NaN\n",
       "25          NaN\n",
       "26          NaN\n",
       "27     0.052632\n",
       "28          NaN\n",
       "29          NaN\n",
       "         ...   \n",
       "728         NaN\n",
       "729         NaN\n",
       "730         NaN\n",
       "731         NaN\n",
       "733         NaN\n",
       "736         NaN\n",
       "737         NaN\n",
       "738         NaN\n",
       "739         NaN\n",
       "741         NaN\n",
       "742         NaN\n",
       "743         NaN\n",
       "745         NaN\n",
       "746         NaN\n",
       "748         NaN\n",
       "750         NaN\n",
       "751         NaN\n",
       "752         NaN\n",
       "753         NaN\n",
       "756         NaN\n",
       "757         NaN\n",
       "761         NaN\n",
       "765         NaN\n",
       "769         NaN\n",
       "771         NaN\n",
       "773         NaN\n",
       "774         NaN\n",
       "775         NaN\n",
       "777         NaN\n",
       "778    0.052632\n",
       "Name: age, Length: 576, dtype: float64"
      ]
     },
     "execution_count": 201,
     "metadata": {},
     "output_type": "execute_result"
    }
   ],
   "source": [
    "y=hero.drop_duplicates(['sn'])\n",
    "bins = pd.cut(y['age'],[0,9])\n",
    "\n",
    "y.groupby(bins).apply(lambda x: x/x.sum())\n",
    "\n",
    "\n"
   ]
  },
  {
   "cell_type": "code",
   "execution_count": null,
   "metadata": {},
   "outputs": [],
   "source": []
  }
 ],
 "metadata": {
  "kernelspec": {
   "display_name": "Python 3",
   "language": "python",
   "name": "python3"
  },
  "language_info": {
   "codemirror_mode": {
    "name": "ipython",
    "version": 3
   },
   "file_extension": ".py",
   "mimetype": "text/x-python",
   "name": "python",
   "nbconvert_exporter": "python",
   "pygments_lexer": "ipython3",
   "version": "3.7.0"
  }
 },
 "nbformat": 4,
 "nbformat_minor": 2
}
